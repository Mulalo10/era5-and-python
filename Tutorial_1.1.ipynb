{
 "cells": [
  {
   "cell_type": "markdown",
   "metadata": {},
   "source": [
    "# How to download copernicus ERA5 data and visualiazation with Python (Part 1)\n",
    "\n",
    "In this tutorial, I will be going through the steps to download and visualise ERA5 corpenicus data that is widely used in atmospheric science, climate science, meteorology, oceanography and in a lot of other science streams"
   ]
  },
  {
   "cell_type": "markdown",
   "metadata": {},
   "source": [
    "## What is Climate reanalysis?\n",
    "\n",
    "Climate reanalysis is the combination of past observations with models in order to generate consistent time series of multiple climate varibales. Reanalyses are some of the most used datasets in the geophysical science field. Reanalyses data provide a comprehensive description of the observed past climate as it has evolved during recent decades. \n",
    "\n",
    "<div class=\"alert alert-info\"\n",
    "\n",
    "ERA5 is the fith generation ECMWF reanalysis for the global climate and weather for the past 4 to 7 decades. This dataset has the ability to provide hourly data on many atmosphereic, land-surfaces and sea-state temperature parameters together with estimates of uncertainity. \n",
    "\n",
    "ERA5 data ara available in the Climate Data Stores on regular latitude and longitude grids at 0.25o x 0.25o resolution, with atmospheric parameters on 37 pressure levels. Currently the data is available from 1950, split into Climate Data store entries for 1950-1978 (preliminary back extension) and from 1979 onwars (final release plus updates, this page). ERA5 replaces the ERA-Interim reanalysis."
   ]
  },
  {
   "cell_type": "markdown",
   "metadata": {},
   "source": [
    "## How to access ERA5 realanyses? \n",
    "\n",
    "<div class=\"alert alert-block alert-success\">\n",
    "\n",
    "1. You can use either the chrome or firefox internet browser to access the copernicus page [https://cds.climate.copernicus.eu/#!/home].\n",
    "\n",
    "2. Then you will get into the home page, just like the image shown on this page\n",
    "\n",
    "3. On the top right of the hompage, there is a login or register option (you can either create a new account or loin if you already have an account) \n",
    "\n",
    "\n",
    "![copernicus1](copernicus2.JPG)\n",
    "\n",
    "\n",
    "\n",
    "4. Once you have login, then you can visit the `Datasets` page then on the Product type shown by a drop-down menu on the left, select `Reanalysis` this also shown by a picture below. \n",
    "\n",
    "5. There are lots of options under the reanalyses, there is also a various of option classifed as ERA5 dataset. But for the sake of this tutorial, we will use the `ERA5 monthly averaged data on single levels from 1979 to present)`\n",
    "\n",
    "\n",
    "\n",
    "![copernicus1](copernicus3.JPG)"
   ]
  },
  {
   "cell_type": "markdown",
   "metadata": {},
   "source": [
    "### Downloading ERA5 monthly averaged data onto your machine\n",
    "\n",
    "\n",
    "As mentioned before we will download the ` ERA5 monthly averaged data on single levels from 1979 to present`. If you visit this page, you will see on top of th page there is various options including, `Overview`, `Downlaod data`, `Quality assessment`, `Documentation` and `View`.\n",
    "\n",
    "You can go through to know more information about ERA5 data (i.e how it is created, data strenghth and limitations, e.t.c)\n",
    "\n",
    "We will go to the `Download data` page. ERA5 has several options of *reanalyses* as they try to account for uncertainties in their reanalyses. \n",
    "\n",
    "We will chose the `Monthly averaged reanalyses` under the Product type as shown in the image below. In this tutorial we will look at `2m temperature`, thus we chose it under options. There is a lot of parameters that you can chose here, from temperature and pressure to precipitation. \n",
    "\n",
    "We will then, chose year `2020` for the sake of this tutorial. There is a limit on the amount of data you can request using this web-interface, this might require you to break your downloads into pieces which can be a bit tedious but there is a solution for that. The API enables you to retrieve the data directly onto your machine using a script in Python. \n",
    "\n",
    "Since we are only interested in 2020 monthly averaged temperature, under months, we will select all the months of the year as shown by the image below. There is only one timestep available, since it is a monthly avergae, then we will also tick it. There is an option to chose a region we like, by specifying the coordinates but in our case we will go with the other option of `whole available region` dataset. For the format we are interested in the `netCDF`, so we will go with netcdf. Both the GRIB and netCDF are self-decribing datasets. You also have to allow the Terms of use. \n",
    "\n",
    "\n",
    "Then you can `Submit form` if all the required conditions have been met. The form will go onto a new page called `Your requests` and then you can download your data\n",
    "\n",
    "\n",
    "![copernicus1](download1.JPG)\n",
    "![copernicus1](download2.JPG)\n",
    "![copernicus1](download3.JPG)\n",
    "![copernicus1](download4.JPG)"
   ]
  },
  {
   "cell_type": "markdown",
   "metadata": {},
   "source": [
    "Now we can save our dataset on our machine and we can start our data analysis."
   ]
  },
  {
   "cell_type": "code",
   "execution_count": null,
   "metadata": {},
   "outputs": [],
   "source": []
  }
 ],
 "metadata": {
  "kernelspec": {
   "display_name": "Python 3",
   "language": "python",
   "name": "python3"
  },
  "language_info": {
   "codemirror_mode": {
    "name": "ipython",
    "version": 3
   },
   "file_extension": ".py",
   "mimetype": "text/x-python",
   "name": "python",
   "nbconvert_exporter": "python",
   "pygments_lexer": "ipython3",
   "version": "3.8.5"
  }
 },
 "nbformat": 4,
 "nbformat_minor": 4
}
